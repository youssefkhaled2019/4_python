{
 "cells": [
  {
   "cell_type": "markdown",
   "metadata": {},
   "source": [
    "## Fibonacci"
   ]
  },
  {
   "cell_type": "code",
   "execution_count": null,
   "metadata": {},
   "outputs": [],
   "source": [
    "def fibon(n): \n",
    "    a = b = 1 \n",
    "    result =[]\n",
    "    for i in range(n): \n",
    "        result.append (a) \n",
    "        a , b = b , a+b \n",
    "    return result \n",
    " \n",
    "print (fibon(20))"
   ]
  },
  {
   "cell_type": "code",
   "execution_count": null,
   "metadata": {},
   "outputs": [],
   "source": [
    "a,b=0,1\n",
    "li=[a]\n",
    "\n",
    "for i in range (10):\n",
    "    a,b=a+b,a\n",
    "    li.append(a)\n",
    "print(li)    \n",
    "     \n",
    "# out put =[0, 1, 1, 2, 3, 5, 8, 13, 21, 34, 55]"
   ]
  },
  {
   "cell_type": "code",
   "execution_count": null,
   "metadata": {},
   "outputs": [],
   "source": [
    "def fibon(n): \n",
    "    a = b = 1 \n",
    "      \n",
    "    for i in range(n): \n",
    "        yield  a \n",
    "        a , b = b , a+b \n",
    "      \n",
    "for x in fibon(20): \n",
    "    print (x)"
   ]
  }
 ],
 "metadata": {
  "kernelspec": {
   "display_name": "base",
   "language": "python",
   "name": "python3"
  },
  "language_info": {
   "codemirror_mode": {
    "name": "ipython",
    "version": 3
   },
   "file_extension": ".py",
   "mimetype": "text/x-python",
   "name": "python",
   "nbconvert_exporter": "python",
   "pygments_lexer": "ipython3",
   "version": "3.10.9"
  }
 },
 "nbformat": 4,
 "nbformat_minor": 2
}
